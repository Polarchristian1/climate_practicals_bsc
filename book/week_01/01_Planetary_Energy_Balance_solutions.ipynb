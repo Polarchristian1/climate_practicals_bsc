{
 "cells": [
  {
   "cell_type": "markdown",
   "metadata": {},
   "source": [
    "# Exercises: planetary energy balance"
   ]
  },
  {
   "cell_type": "markdown",
   "metadata": {},
   "source": [
    "For these exercises you'll need some pen and paper and your notes from the class. I also recommend reading one of (or both) of these book chapters (they explain exactly the same thing but in different styles, you can choose yours):\n",
    "- John Marshall & R. Alan Plumb: Atmosphere, Ocean, and Climate Dynamics (Chapter 2)\n",
    "- Andrew Dessler: Introduction to Modern Climate Change (Chapters 3 & 4)\n",
    "\n",
    "Below I use mostly the notations from Marshall & Plumb, but the differences are small."
   ]
  },
  {
   "cell_type": "code",
   "execution_count": 7,
   "metadata": {},
   "outputs": [],
   "source": [
    "# These are the modules you will need\n",
    "import numpy as np\n",
    "import matplotlib.pyplot as plt"
   ]
  },
  {
   "cell_type": "markdown",
   "metadata": {},
   "source": [
    "**Constants**"
   ]
  },
  {
   "cell_type": "code",
   "execution_count": 23,
   "metadata": {},
   "outputs": [],
   "source": [
    "sigma = 5.67e-8  #  W / (m2 K4)\n",
    "Q_Sun = 3.87e26  #  W\n",
    "dist_sun_earth = 150e9  #  m\n",
    "albedo_earth = 0.3"
   ]
  },
  {
   "cell_type": "markdown",
   "metadata": {},
   "source": [
    "**Ex 0**: Compute the solar constant at the location of Earth, given $Q = 3.87 \\times 10^{26} W$ and $r = 150 \\times 10^{9} m$"
   ]
  },
  {
   "cell_type": "code",
   "execution_count": 34,
   "metadata": {},
   "outputs": [],
   "source": [
    "# your answer here, or on pen & paper"
   ]
  },
  {
   "cell_type": "code",
   "execution_count": 24,
   "metadata": {},
   "outputs": [
    {
     "data": {
      "text/plain": [
       "1368.7325105903"
      ]
     },
     "execution_count": 24,
     "metadata": {},
     "output_type": "execute_result"
    }
   ],
   "source": [
    "S0_sun = Q_Sun / (4 * np.pi * dist_sun_earth**2)\n",
    "S0_sun"
   ]
  },
  {
   "cell_type": "markdown",
   "metadata": {},
   "source": [
    "**Ex 1**: A planet in another solar system has a solar constant S = 2,000 W/m 2 , and the distance between the planet and the star is 100 million km.\n",
    "\n",
    "    a. What is the total power output of the star? (Give your answer in watts.)\n",
    "\n",
    "    b. What is the solar constant of a planet located 75 million km from the same star? (Give your answer in watts per square meter.)"
   ]
  },
  {
   "cell_type": "code",
   "execution_count": 25,
   "metadata": {},
   "outputs": [],
   "source": [
    "# your answer here, or on pen & paper"
   ]
  },
  {
   "cell_type": "markdown",
   "metadata": {},
   "source": [
    "**Ex 2**: Compute $T_e$ and $T_s$ of the Earth using the constants defined and computed above, assuming a one-layer planet opaque to longwave radiation but transparent to shortwave radiation."
   ]
  },
  {
   "cell_type": "code",
   "execution_count": 6,
   "metadata": {},
   "outputs": [],
   "source": [
    "# your answer here, or on pen & paper"
   ]
  },
  {
   "cell_type": "code",
   "execution_count": 28,
   "metadata": {},
   "outputs": [
    {
     "data": {
      "text/plain": [
       "254.94317679955054"
      ]
     },
     "execution_count": 28,
     "metadata": {},
     "output_type": "execute_result"
    }
   ],
   "source": [
    "t_e = (S0_sun * (1 - albedo_earth) / (4*sigma))**0.25\n",
    "t_e"
   ]
  },
  {
   "cell_type": "code",
   "execution_count": 29,
   "metadata": {},
   "outputs": [
    {
     "data": {
      "text/plain": [
       "303.1802397714221"
      ]
     },
     "execution_count": 29,
     "metadata": {},
     "output_type": "execute_result"
    }
   ],
   "source": [
    "t_s = 2**0.25 * t_e\n",
    "t_s"
   ]
  },
  {
   "cell_type": "markdown",
   "metadata": {},
   "source": [
    "**Ex 3**: Using the \"leaky\" atmosphere model, determine $\\epsilon$ so that $T_S$ is equal to the observed surface temperature on Earth, about 15°C."
   ]
  },
  {
   "cell_type": "code",
   "execution_count": 6,
   "metadata": {},
   "outputs": [],
   "source": [
    "# your answer here, or on pen & paper"
   ]
  },
  {
   "cell_type": "markdown",
   "metadata": {},
   "source": [
    "**Ex 4**: As we will discover later, one way to address global warming is to increase the reflectivity of the planet. To reduce the Earth’s temperature by 1 K, how much would we have to change the Earth albedo? (assume a one-layer planet with an initial albedo of 0.3 and solar constant of 1367 W/m 2 )."
   ]
  },
  {
   "cell_type": "code",
   "execution_count": 30,
   "metadata": {},
   "outputs": [],
   "source": [
    "# your answer here, or on pen & paper"
   ]
  },
  {
   "cell_type": "markdown",
   "metadata": {},
   "source": [
    "**Ex 5**: Either on your own of with the help of one of the books (Exercise 5 in Marshall & Plumb, or Textbook in Dessler), determine that when a very opaque atmosphere as N layers opaque to longwave radiation, the equilibrium surface temperature is:\n",
    "\n",
    "$$T_s = (N + 1)^{1/4} T_e$$\n",
    "\n",
    "![](../img/nlayer_atmo.png)"
   ]
  },
  {
   "cell_type": "markdown",
   "metadata": {},
   "source": [
    "Now plot the surface temperature of earth as a function of the number of opaque layers in the atmosphere, with N in [1, 100]."
   ]
  },
  {
   "cell_type": "code",
   "execution_count": 33,
   "metadata": {},
   "outputs": [],
   "source": [
    "# your answer here"
   ]
  },
  {
   "cell_type": "code",
   "execution_count": 32,
   "metadata": {},
   "outputs": [
    {
     "data": {
      "image/png": "[encoded data removed]",
      "text/plain": [
       "<Figure size 640x480 with 1 Axes>"
      ]
     },
     "metadata": {},
     "output_type": "display_data"
    }
   ],
   "source": [
    "plt.plot((np.arange(1, 101) + 1)**0.25 * t_e);"
   ]
  },
  {
   "cell_type": "code",
   "execution_count": null,
   "metadata": {},
   "outputs": [],
   "source": []
  }
 ],
 "metadata": {
  "hide_input": false,
  "kernelspec": {
   "display_name": "Python 3 (ipykernel)",
   "language": "python",
   "name": "python3"
  },
  "language_info": {
   "codemirror_mode": {
    "name": "ipython",
    "version": 3
   },
   "file_extension": ".py",
   "mimetype": "text/x-python",
   "name": "python",
   "nbconvert_exporter": "python",
   "pygments_lexer": "ipython3",
   "version": "3.10.6"
  },
  "latex_envs": {
   "LaTeX_envs_menu_present": true,
   "autoclose": false,
   "autocomplete": true,
   "bibliofile": "biblio.bib",
   "cite_by": "apalike",
   "current_citInitial": 1,
   "eqLabelWithNumbers": true,
   "eqNumInitial": 1,
   "hotkeys": {
    "equation": "Ctrl-E",
    "itemize": "Ctrl-I"
   },
   "labels_anchors": false,
   "latex_user_defs": false,
   "report_style_numbering": false,
   "user_envs_cfg": false
  },
  "nbTranslate": {
   "displayLangs": [
    "*"
   ],
   "hotkey": "alt-t",
   "langInMainMenu": true,
   "sourceLang": "en",
   "targetLang": "fr",
   "useGoogleTranslate": true
  },
  "toc": {
   "base_numbering": 1,
   "nav_menu": {},
   "number_sections": false,
   "sideBar": true,
   "skip_h1_title": true,
   "title_cell": "Table of Contents",
   "title_sidebar": "Contents",
   "toc_cell": false,
   "toc_position": {},
   "toc_section_display": true,
   "toc_window_display": false
  }
 },
 "nbformat": 4,
 "nbformat_minor": 4
}
