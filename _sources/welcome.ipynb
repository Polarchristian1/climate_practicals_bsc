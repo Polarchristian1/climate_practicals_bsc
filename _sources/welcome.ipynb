{
 "cells": [
  {
   "cell_type": "markdown",
   "metadata": {},
   "source": [
    "# Welcome"
   ]
  },
  {
   "cell_type": "markdown",
   "metadata": {},
   "source": [
    "Practicals of the bachelor lecture [707674 VU Climate System](https://lfuonline.uibk.ac.at/public/lfuonline_lv.details?sem_id_in=24W&lvnr_id_in=707674), taught to 3rd semester students following a [Bachelor in Atmospheric Sciences](https://www.uibk.ac.at/en/programmes/ba-atmospheric-sciences/) curriculum from the Department of Atmospheric and Cryospheric Sciences ([ACINN](https://www.uibk.ac.at/acinn)) at the University of Innsbruck."
   ]
  },
  {
   "cell_type": "markdown",
   "metadata": {},
   "source": [
    "## How to use this website"
   ]
  },
  {
   "cell_type": "markdown",
   "metadata": {},
   "source": [
    "These practicals are written in [Jupyter Notebooks](https://jupyter.org/) (this website is simply an HTML conversion of the original notebooks done with [JupyterBook](https://jupyterbook.org)). This website is therefore only here for convenience: in practice, you will download the notebooks from here and run them on your laptop or online. One week's activities usually consists of a guided notebook (\"lesson\") followed by one with questions (\"exercise\")."
   ]
  },
  {
   "cell_type": "markdown",
   "metadata": {},
   "source": [
    "## Grading "
   ]
  },
  {
   "cell_type": "markdown",
   "metadata": {},
   "source": [
    "The lecture will be graded based on two assessments: group project (30%) and written examination at the end of the course (70%).\n",
    "\n",
    "1. The exam (closed-book exam, 1H30 - 2H, muliple choice questions) will be on Thursday, 30.01.2025. Online exam on OLAT requiring presence in classroom.\n",
    "2. The practicals take place irregularly on Thursdays (the schedule will be communicated during the lectures and per mail). Practicals are not graded. Group projects start in December and have to be returned on Thursday 09.01.2025. We will discuss your projects after revision on Thursday 23.01.2025, 08.15 - 11.00.\n",
    "\n",
    "A positive evaluation of each of these elements is mandatory to pass the class!\n",
    "\n",
    "There will be bonus points for pointing us to typos / mistakes / broken links / incomprehensible or difficult passages in the notebooks."
   ]
  },
  {
   "cell_type": "markdown",
   "metadata": {},
   "source": [
    "The class grants you 5 ECTS if successfully passed: [in theory](https://en.wikipedia.org/wiki/European_Credit_Transfer_and_Accumulation_System), this represents 8 to 10 hours work per week (not including holidays). For this course, it means that **you will spend at least twice as much time doing homework than sitting in class**."
   ]
  },
  {
   "cell_type": "markdown",
   "metadata": {},
   "source": [
    "## Contact"
   ]
  },
  {
   "cell_type": "markdown",
   "metadata": {},
   "source": [
    "*If you have questions or comments please write an e-mail to Christian:*\n",
    "- christian.wild@uibk.ac.at"
   ]
  },
  {
   "cell_type": "markdown",
   "metadata": {},
   "source": [
    "## Authors"
   ]
  },
  {
   "cell_type": "markdown",
   "metadata": {},
   "source": [
    "- [Fabien Maussion](http://fabienmaussion.info/) originally wrote these practicals\n",
    "- [Lilian Schuster](https://www.uibk.ac.at/en/acinn/people/lilian-schuster/) and [Patrick Schmitt](https://www.uibk.ac.at/en/acinn/people/patrick-schmitt/) adapted them\n",
    "- and so did [Christian Wild](https://polarchristian.wordpress.com/)"
   ]
  }
 ],
 "metadata": {
  "hide_input": false,
  "kernelspec": {
   "display_name": "Python 3 (ipykernel)",
   "language": "python",
   "name": "python3"
  },
  "language_info": {
   "codemirror_mode": {
    "name": "ipython",
    "version": 3
   },
   "file_extension": ".py",
   "mimetype": "text/x-python",
   "name": "python",
   "nbconvert_exporter": "python",
   "pygments_lexer": "ipython3",
   "version": "3.13.7"
  },
  "latex_envs": {
   "LaTeX_envs_menu_present": true,
   "autoclose": false,
   "autocomplete": true,
   "bibliofile": "biblio.bib",
   "cite_by": "apalike",
   "current_citInitial": 1,
   "eqLabelWithNumbers": true,
   "eqNumInitial": 1,
   "hotkeys": {
    "equation": "Ctrl-E",
    "itemize": "Ctrl-I"
   },
   "labels_anchors": false,
   "latex_user_defs": false,
   "report_style_numbering": false,
   "user_envs_cfg": false
  },
  "nbTranslate": {
   "displayLangs": [
    "*"
   ],
   "hotkey": "alt-t",
   "langInMainMenu": true,
   "sourceLang": "en",
   "targetLang": "fr",
   "useGoogleTranslate": true
  },
  "toc": {
   "base_numbering": 1,
   "nav_menu": {},
   "number_sections": false,
   "sideBar": true,
   "skip_h1_title": false,
   "title_cell": "Table of Contents",
   "title_sidebar": "Contents",
   "toc_cell": false,
   "toc_position": {},
   "toc_section_display": "block",
   "toc_window_display": true
  }
 },
 "nbformat": 4,
 "nbformat_minor": 4
}
